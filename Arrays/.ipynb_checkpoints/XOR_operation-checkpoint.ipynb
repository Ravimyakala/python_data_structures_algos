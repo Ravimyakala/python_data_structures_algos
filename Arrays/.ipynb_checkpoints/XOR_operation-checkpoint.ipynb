{
 "cells": [
  {
   "cell_type": "markdown",
   "metadata": {},
   "source": [
    "XOR operation in Python"
   ]
  },
  {
   "cell_type": "code",
   "execution_count": 1,
   "metadata": {},
   "outputs": [
    {
     "name": "stdout",
     "output_type": "stream",
     "text": [
      "9\n",
      "11\n"
     ]
    }
   ],
   "source": [
    "xor = 0\n",
    "num1 = 9\n",
    "num2 = 2\n",
    "\n",
    "print(xor^num1)\n",
    "print(num1^num2)\n"
   ]
  },
  {
   "cell_type": "code",
   "execution_count": 6,
   "metadata": {},
   "outputs": [
    {
     "name": "stdout",
     "output_type": "stream",
     "text": [
      "1 XOR 4 = 5\n",
      "1 XOR 5 = 4\n",
      "1 XOR 6 = 7\n",
      "1 XOR 8 = 9\n",
      "2 XOR 4 = 6\n",
      "2 XOR 5 = 7\n",
      "2 XOR 6 = 4\n",
      "2 XOR 8 = 10\n",
      "3 XOR 4 = 7\n",
      "3 XOR 5 = 6\n",
      "3 XOR 6 = 5\n",
      "3 XOR 8 = 11\n",
      "4 XOR 4 = 0\n",
      "4 XOR 5 = 1\n",
      "4 XOR 6 = 2\n",
      "4 XOR 8 = 12\n"
     ]
    }
   ],
   "source": [
    "lst=[1,2,3,4]\n",
    "lst1=[4,5,6,8]\n",
    "xor = 0\n",
    "for num in lst:\n",
    "    for num1 in lst1:\n",
    "        print(num,\"XOR\", num1,\"=\", num^num1)\n"
   ]
  },
  {
   "cell_type": "code",
   "execution_count": null,
   "metadata": {},
   "outputs": [],
   "source": []
  }
 ],
 "metadata": {
  "kernelspec": {
   "display_name": "Python 3",
   "language": "python",
   "name": "python3"
  },
  "language_info": {
   "codemirror_mode": {
    "name": "ipython",
    "version": 3
   },
   "file_extension": ".py",
   "mimetype": "text/x-python",
   "name": "python",
   "nbconvert_exporter": "python",
   "pygments_lexer": "ipython3",
   "version": "3.7.2"
  }
 },
 "nbformat": 4,
 "nbformat_minor": 2
}
